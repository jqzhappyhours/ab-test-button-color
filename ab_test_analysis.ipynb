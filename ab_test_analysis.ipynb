{
 "cells": [
  {
   "cell_type": "markdown",
   "id": "63561f72",
   "metadata": {},
   "source": [
    "# Load and Explore the Data"
   ]
  },
  {
   "cell_type": "code",
   "execution_count": 1,
   "id": "124198f2",
   "metadata": {},
   "outputs": [
    {
     "data": {
      "text/html": [
       "<div>\n",
       "<style scoped>\n",
       "    .dataframe tbody tr th:only-of-type {\n",
       "        vertical-align: middle;\n",
       "    }\n",
       "\n",
       "    .dataframe tbody tr th {\n",
       "        vertical-align: top;\n",
       "    }\n",
       "\n",
       "    .dataframe thead th {\n",
       "        text-align: right;\n",
       "    }\n",
       "</style>\n",
       "<table border=\"1\" class=\"dataframe\">\n",
       "  <thead>\n",
       "    <tr style=\"text-align: right;\">\n",
       "      <th></th>\n",
       "      <th>user_id</th>\n",
       "      <th>group</th>\n",
       "      <th>converted</th>\n",
       "    </tr>\n",
       "  </thead>\n",
       "  <tbody>\n",
       "    <tr>\n",
       "      <th>0</th>\n",
       "      <td>1</td>\n",
       "      <td>A</td>\n",
       "      <td>0</td>\n",
       "    </tr>\n",
       "    <tr>\n",
       "      <th>1</th>\n",
       "      <td>2</td>\n",
       "      <td>B</td>\n",
       "      <td>0</td>\n",
       "    </tr>\n",
       "    <tr>\n",
       "      <th>2</th>\n",
       "      <td>3</td>\n",
       "      <td>A</td>\n",
       "      <td>0</td>\n",
       "    </tr>\n",
       "    <tr>\n",
       "      <th>3</th>\n",
       "      <td>4</td>\n",
       "      <td>A</td>\n",
       "      <td>0</td>\n",
       "    </tr>\n",
       "    <tr>\n",
       "      <th>4</th>\n",
       "      <td>5</td>\n",
       "      <td>A</td>\n",
       "      <td>0</td>\n",
       "    </tr>\n",
       "  </tbody>\n",
       "</table>\n",
       "</div>"
      ],
      "text/plain": [
       "   user_id group  converted\n",
       "0        1     A          0\n",
       "1        2     B          0\n",
       "2        3     A          0\n",
       "3        4     A          0\n",
       "4        5     A          0"
      ]
     },
     "execution_count": 1,
     "metadata": {},
     "output_type": "execute_result"
    }
   ],
   "source": [
    "import pandas as pd\n",
    "\n",
    "df = pd.read_csv(\"ab_test_data.csv\")\n",
    "df.head()"
   ]
  },
  {
   "cell_type": "code",
   "execution_count": 2,
   "id": "a9d8a269",
   "metadata": {},
   "outputs": [
    {
     "data": {
      "text/plain": [
       "A    5013\n",
       "B    4987\n",
       "Name: group, dtype: int64"
      ]
     },
     "execution_count": 2,
     "metadata": {},
     "output_type": "execute_result"
    }
   ],
   "source": [
    "df['group'].value_counts()"
   ]
  },
  {
   "cell_type": "code",
   "execution_count": 3,
   "id": "8d87e0fa",
   "metadata": {},
   "outputs": [
    {
     "data": {
      "text/plain": [
       "group\n",
       "A    0.099541\n",
       "B    0.119110\n",
       "Name: converted, dtype: float64"
      ]
     },
     "execution_count": 3,
     "metadata": {},
     "output_type": "execute_result"
    }
   ],
   "source": [
    "df.groupby('group')['converted'].mean()"
   ]
  },
  {
   "cell_type": "markdown",
   "id": "de09a483",
   "metadata": {},
   "source": [
    "# Visualize Conversion Rate"
   ]
  },
  {
   "cell_type": "code",
   "execution_count": 5,
   "id": "930fa244",
   "metadata": {},
   "outputs": [
    {
     "name": "stderr",
     "output_type": "stream",
     "text": [
      "C:\\Users\\jiaqi\\AppData\\Local\\Temp\\ipykernel_28164\\3365612740.py:4: FutureWarning: \n",
      "\n",
      "The `ci` parameter is deprecated. Use `errorbar=None` for the same effect.\n",
      "\n",
      "  sns.barplot( x = 'group', y = 'converted', data = df, ci = None)\n"
     ]
    },
    {
     "data": {
      "image/png": "[encoded data removed]",
      "text/plain": [
       "<Figure size 640x480 with 1 Axes>"
      ]
     },
     "metadata": {},
     "output_type": "display_data"
    }
   ],
   "source": [
    "import matplotlib.pyplot as plt\n",
    "import seaborn as sns\n",
    "\n",
    "sns.barplot( x = 'group', y = 'converted', data = df, ci = None)\n",
    "plt.title(\"Conversion Rate by Group\")\n",
    "plt.ylabel(\"Conversion Rate\")\n",
    "plt.show()"
   ]
  },
  {
   "cell_type": "markdown",
   "id": "5c57305a",
   "metadata": {},
   "source": [
    "# Run a Statistial Test (Z-test)"
   ]
  },
  {
   "cell_type": "code",
   "execution_count": 6,
   "id": "3583e747",
   "metadata": {},
   "outputs": [
    {
     "name": "stdout",
     "output_type": "stream",
     "text": [
      "Z-stat: -3.136, p-value:  0.0017\n"
     ]
    }
   ],
   "source": [
    "from statsmodels.stats.proportion import proportions_ztest\n",
    "\n",
    "# Count conversions and totals\n",
    "conv_counts = df.groupby('group')['converted'].sum().values\n",
    "n_obs = df.groupby('group')['converted'].count().values\n",
    "\n",
    "# Run z-test\n",
    "stat, pval = proportions_ztest(conv_counts, n_obs)\n",
    "print(f\"Z-stat: {stat: .3f}, p-value: {pval: .4f}\")"
   ]
  },
  {
   "cell_type": "markdown",
   "id": "d6c51cd0",
   "metadata": {},
   "source": [
    "# Result Interpretation\n",
    "Group A had a conversion rate of 9.95%, Group B had 11.9%.\n",
    "The p-value was 0.0017, which is < 0.05, so the result is statistically significant.\n",
    "We recommend deploying the green button (Group B)."
   ]
  },
  {
   "cell_type": "markdown",
   "id": "9d494478",
   "metadata": {},
   "source": []
  }
 ],
 "metadata": {
  "kernelspec": {
   "display_name": "Python 3",
   "language": "python",
   "name": "python3"
  },
  "language_info": {
   "codemirror_mode": {
    "name": "ipython",
    "version": 3
   },
   "file_extension": ".py",
   "mimetype": "text/x-python",
   "name": "python",
   "nbconvert_exporter": "python",
   "pygments_lexer": "ipython3",
   "version": "3.10.7"
  }
 },
 "nbformat": 4,
 "nbformat_minor": 5
}
